{
 "cells": [
  {
   "cell_type": "code",
   "execution_count": 1,
   "metadata": {},
   "outputs": [],
   "source": [
    "# adjective.ipynb 파일을 사용하기 위해\n",
    "import json\n",
    "k = json.load(open(\"adjective.ipynb\", 'r', encoding='utf-8'))\n",
    "all_code_lst =[]\n",
    "\n",
    "for cell in k['cells']:\n",
    "    if cell['cell_type']=='code':\n",
    "        all_code_lst.append(\"\".join(cell['source']))\n",
    "all_code = \"\\n\".join(all_code_lst)\n",
    "exec(all_code)"
   ]
  },
  {
   "cell_type": "code",
   "execution_count": 2,
   "metadata": {},
   "outputs": [],
   "source": [
    "# 지역,지역인덱스 series\n",
    "import pandas as pd\n",
    "indices = pd.Series(index, index=names)\n",
    "# print(indices) "
   ]
  },
  {
   "cell_type": "code",
   "execution_count": 3,
   "metadata": {
    "scrolled": false
   },
   "outputs": [],
   "source": [
    "# 지역, 형용사를 dictionary형태로 표현\n",
    "country=dict()\n",
    "for i in range(20):\n",
    "    country[names[i]]=a[i]\n",
    "# country"
   ]
  },
  {
   "cell_type": "code",
   "execution_count": 4,
   "metadata": {
    "scrolled": false
   },
   "outputs": [],
   "source": [
    "from sklearn.feature_extraction.text import TfidfVectorizer\n",
    "\n",
    "#doc벡터화\n",
    "tfidfv = TfidfVectorizer().fit(a)\n",
    "tfidf_matrix=tfidfv.transform(a).toarray()\n",
    "\n",
    "# print(tfidf_matrix)\n",
    "\n",
    "# 나라doc간의 코사인 유사도 \n",
    "from sklearn.metrics.pairwise import linear_kernel\n",
    "cosine_sim = linear_kernel(tfidf_matrix, tfidf_matrix)"
   ]
  },
  {
   "cell_type": "code",
   "execution_count": 5,
   "metadata": {},
   "outputs": [],
   "source": [
    "# 비슷한 나라 추천\n",
    "def get_recommendations(country, cosine_sim=cosine_sim):\n",
    "    # 사용자가 원하는 나라의 해당되는 인덱스를 받아옵니다.\n",
    "    idx = indices[country]\n",
    "\n",
    "    # 모든 나라에 대해서 해당 나라와의 유사도를 구합니다.\n",
    "    sim_scores = list(enumerate(cosine_sim[idx]))\n",
    "\n",
    "    # 유사도에 따라 나라들을 정렬합니다.\n",
    "    sim_scores = sorted(sim_scores, key=lambda x: x[1], reverse=True)\n",
    "\n",
    "    # 가장 유사한 3개의 나라를 받아옵니다.\n",
    "    sim_scores = sim_scores[1:4]\n",
    "\n",
    "    # 가장 유사한 3개의 나라 인덱스\n",
    "    country_indices = [i[0] for i in sim_scores]\n",
    "\n",
    "    # 코사인 유사도 큰 3개의 나라 리턴\n",
    "    return indices.iloc[country_indices]"
   ]
  },
  {
   "cell_type": "code",
   "execution_count": 6,
   "metadata": {},
   "outputs": [
    {
     "name": "stdout",
     "output_type": "stream",
     "text": [
      "Enter what you want: 한적한\n",
      "['노르웨이', '이탈리아', '코타키나발루', '뉴질랜드', '타이베이']\n"
     ]
    }
   ],
   "source": [
    "from collections import OrderedDict\n",
    "result=[] #중복된 결과를 제거하기 위한 리스트\n",
    "\n",
    "# 원하는 감성(형용사) 입력\n",
    "search=input(\"Enter what you want: \")\n",
    "\n",
    "for name, adj in dictionary.items():\n",
    "    if search in adj :\n",
    "        search=name\n",
    "        for main_name, main_adj in country.items():\n",
    "            if search in main_adj:\n",
    "                result.append(main_name)\n",
    "    elif(search==name):\n",
    "        for main_name, main_adj in country.items():\n",
    "            if name in main_adj:\n",
    "                result.append(main_name)\n",
    "\n",
    "if(len(result)==0):\n",
    "    print('다른 형용사를 입력해주세요')\n",
    "else:\n",
    "    print(list(OrderedDict.fromkeys(result)))\n"
   ]
  },
  {
   "cell_type": "code",
   "execution_count": 8,
   "metadata": {},
   "outputs": [
    {
     "name": "stdout",
     "output_type": "stream",
     "text": [
      "뉴질랜드\n"
     ]
    },
    {
     "data": {
      "text/plain": [
       "노르웨이     1\n",
       "교토       0\n",
       "앨버타     13\n",
       "dtype: int64"
      ]
     },
     "execution_count": 8,
     "metadata": {},
     "output_type": "execute_result"
    }
   ],
   "source": [
    "get_recommendations(input())"
   ]
  }
 ],
 "metadata": {
  "kernelspec": {
   "display_name": "Python 3",
   "language": "python",
   "name": "python3"
  },
  "language_info": {
   "codemirror_mode": {
    "name": "ipython",
    "version": 3
   },
   "file_extension": ".py",
   "mimetype": "text/x-python",
   "name": "python",
   "nbconvert_exporter": "python",
   "pygments_lexer": "ipython3",
   "version": "3.7.1"
  }
 },
 "nbformat": 4,
 "nbformat_minor": 2
}
