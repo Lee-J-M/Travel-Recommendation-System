{
 "cells": [
  {
   "cell_type": "code",
   "execution_count": 1,
   "metadata": {
    "scrolled": false
   },
   "outputs": [
    {
     "name": "stdout",
     "output_type": "stream",
     "text": [
      "['http://info.hanatour.com/getabout/content/?page=6&ctag=%EB%8F%84%EC%BF%84&contentID=1000051600101', 'http://info.hanatour.com/getabout/content/?page=6&ctag=%EB%8F%84%EC%BF%84&contentID=1000051586101', 'http://info.hanatour.com/getabout/content/?page=6&ctag=%EB%8F%84%EC%BF%84&contentID=1000051578101', 'http://info.hanatour.com/getabout/content/?page=6&ctag=%EB%8F%84%EC%BF%84&contentID=1000051569101', 'http://info.hanatour.com/getabout/content/?page=6&ctag=%EB%8F%84%EC%BF%84&contentID=1000052624101', 'http://info.hanatour.com/getabout/content/?page=6&ctag=%EB%8F%84%EC%BF%84&contentID=1000052608101']\n"
     ]
    }
   ],
   "source": [
    "import requests\n",
    "from bs4 import BeautifulSoup\n",
    "\n",
    "# 웹크롤링\n",
    "response =requests.get(\"http://info.hanatour.com/getabout/area/%EB%8F%84%EC%BF%84?page=6\")#이부분에 원하는 페이지의 url을 넣는다.\n",
    "html = response.text\n",
    "soup = BeautifulSoup(html, 'html.parser')\n",
    "tags=soup.findAll('div',attrs={'class':'listArea'})\n",
    "\n",
    "# 한페이지에 있는 url들을 하나의 리스트에 저장\n",
    "link_arr=[]\n",
    "for link in tags[0].findAll('a'):\n",
    "    if 'href' in link.attrs:\n",
    "        link_arr.append('http://info.hanatour.com'+link.attrs['href'])\n",
    "# print(link_arr)\n"
   ]
  },
  {
   "cell_type": "code",
   "execution_count": 34,
   "metadata": {},
   "outputs": [
    {
     "name": "stdout",
     "output_type": "stream",
     "text": [
      "6\n"
     ]
    }
   ],
   "source": [
    "# 후기의 내용만 가져오기\n",
    "tag=[]\n",
    "for i in range(len(link_arr)):\n",
    "    response2=requests.get(link_arr[i])\n",
    "    html2=response2.text\n",
    "    soup2 = BeautifulSoup(html2, 'html.parser')\n",
    "    tag.append(soup2.select('.new_des_content'))\n"
   ]
  },
  {
   "cell_type": "code",
   "execution_count": 35,
   "metadata": {},
   "outputs": [],
   "source": [
    "# 후기 내용을 txt파일에 저장\n",
    "file=open('tag1.txt','w',encoding='utf-8')\n",
    "for whole_doc in tag[0][0].text:\n",
    "    file.write(whole_doc)\n",
    "file.close()"
   ]
  },
  {
   "cell_type": "code",
   "execution_count": 36,
   "metadata": {},
   "outputs": [],
   "source": [
    "file=open('tag2.txt','w',encoding='utf-8')\n",
    "for whole_doc in tag[1][0].text:\n",
    "    file.write(whole_doc)\n",
    "file.close()"
   ]
  },
  {
   "cell_type": "code",
   "execution_count": 37,
   "metadata": {},
   "outputs": [],
   "source": [
    "file=open('tag3.txt','w',encoding='utf-8')\n",
    "for whole_doc in tag[2][0].text:\n",
    "    file.write(whole_doc)\n",
    "file.close()"
   ]
  },
  {
   "cell_type": "code",
   "execution_count": 38,
   "metadata": {},
   "outputs": [],
   "source": [
    "file=open('tag4.txt','w',encoding='utf-8')\n",
    "for whole_doc in tag[3][0].text:\n",
    "    file.write(whole_doc)\n",
    "file.close()"
   ]
  },
  {
   "cell_type": "code",
   "execution_count": 39,
   "metadata": {},
   "outputs": [],
   "source": [
    "file=open('tag5.txt','w',encoding='utf-8')\n",
    "for whole_doc in tag[4][0].text:\n",
    "    file.write(whole_doc)\n",
    "file.close()"
   ]
  },
  {
   "cell_type": "code",
   "execution_count": 40,
   "metadata": {},
   "outputs": [],
   "source": [
    "file=open('tag6.txt','w',encoding='utf-8')\n",
    "for whole_doc in tag[5][0].text:\n",
    "    file.write(whole_doc)\n",
    "file.close()"
   ]
  }
 ],
 "metadata": {
  "kernelspec": {
   "display_name": "Python 3",
   "language": "python",
   "name": "python3"
  },
  "language_info": {
   "codemirror_mode": {
    "name": "ipython",
    "version": 3
   },
   "file_extension": ".py",
   "mimetype": "text/x-python",
   "name": "python",
   "nbconvert_exporter": "python",
   "pygments_lexer": "ipython3",
   "version": "3.7.1"
  }
 },
 "nbformat": 4,
 "nbformat_minor": 2
}
